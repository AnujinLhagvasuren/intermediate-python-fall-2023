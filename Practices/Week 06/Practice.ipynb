{
 "cells": [
  {
   "cell_type": "markdown",
   "id": "3d7a1c77-0fec-400f-9507-e2f10d08abc5",
   "metadata": {
    "tags": []
   },
   "source": [
    "# Scraping `zangia.mn`\n",
    "* You need to import `pandas`, `requests` and `BeautifulSoup`"
   ]
  },
  {
   "cell_type": "code",
   "execution_count": 59,
   "id": "a2882d7b-3416-474c-a99d-0d445c1c58f8",
   "metadata": {},
   "outputs": [],
   "source": [
    "import pandas as pd\n",
    "pd.set_option('display.float_format', '{:.2f}'.format)\n",
    "import requests\n",
    "from bs4 import BeautifulSoup\n",
    "import statistics"
   ]
  },
  {
   "cell_type": "markdown",
   "id": "0fca01f5-7995-46b3-8849-953231d6dec1",
   "metadata": {
    "tags": []
   },
   "source": [
    "### Exercise 1: Scrape `zangia.mn` page#1\n",
    "* Make a dataframe using `Мэдээлэл технологи, Харилцаа холбоо` category `https://www.zangia.mn/job/list/pg.1/b.4`.\n",
    "* Get job listings from page 1.\n",
    "  * DataFrame should include columns: `job_title`, `salary`. \n",
    "  * Remove the row if `salary` text contains `Тохиролцоно`. \n",
    "    * *Hint*: Loop over the df and use `in` and `drop` methods.\n",
    "  * Take salary as 5000000 if `salary` text contains `5,000,000 -ааc дээш`\n",
    "  * Import statistics library\n",
    "  * Get the median salary using statistics library if there is a salary range. Example: 2,500,000-3,500,000 should be 3000000. \n",
    "    * Use string replace method to remove comma from numbers.\n",
    "    * *Hint*: Use string split method to get the numbers. \n",
    "  * Make a histogram plot using the `salary`.  \n"
   ]
  },
  {
   "cell_type": "code",
   "execution_count": 9,
   "id": "aa899bcc-d456-44af-b385-96aa18fbcaaa",
   "metadata": {},
   "outputs": [],
   "source": [
    "# Your code here\n",
    "response = requests.get(\"https://www.zangia.mn/job/list/pg.1/b.4\")"
   ]
  },
  {
   "cell_type": "code",
   "execution_count": 10,
   "id": "237c6b75-75e8-4629-89bd-00eb1767ccf5",
   "metadata": {},
   "outputs": [],
   "source": [
    "soup = BeautifulSoup(response.content)"
   ]
  },
  {
   "cell_type": "code",
   "execution_count": 36,
   "id": "990a0259-6c16-4150-b87a-6924bc817f2b",
   "metadata": {},
   "outputs": [],
   "source": [
    "ads = soup.find_all(\"div\", {\"class\" : \"ad\"})"
   ]
  },
  {
   "cell_type": "code",
   "execution_count": 37,
   "id": "256145ba-a0c4-4d4c-8709-ea62b9393fb6",
   "metadata": {},
   "outputs": [
    {
     "data": {
      "text/plain": [
       "'ТӨЛӨВЛӨЛТИЙН ИНЖЕНЕР'"
      ]
     },
     "execution_count": 37,
     "metadata": {},
     "output_type": "execute_result"
    }
   ],
   "source": [
    "ads[0].find('b').get_text()"
   ]
  },
  {
   "cell_type": "code",
   "execution_count": 40,
   "id": "7cf864a4-c3c0-4e41-baa1-28fc145093f2",
   "metadata": {},
   "outputs": [],
   "source": [
    "job_titles = [] \n",
    "\n",
    "for ad in ads:\n",
    "    job_title = ad.find('b').get_text()\n",
    "    job_titles.append(job_title) "
   ]
  },
  {
   "cell_type": "code",
   "execution_count": 43,
   "id": "61c9f835-731b-4e5d-a418-ce9afd546cee",
   "metadata": {},
   "outputs": [
    {
     "data": {
      "text/plain": [
       "'2,500,000 - 3,000,000'"
      ]
     },
     "execution_count": 43,
     "metadata": {},
     "output_type": "execute_result"
    }
   ],
   "source": [
    "ads[0].find('span', class_=\"fsal\").get_text()"
   ]
  },
  {
   "cell_type": "code",
   "execution_count": 47,
   "id": "107b0973-0030-412b-b0bd-e9f1a91dae95",
   "metadata": {},
   "outputs": [],
   "source": [
    "job_salaries = [] \n",
    "\n",
    "for ad in ads:\n",
    "    job_salary = ad.find('span', class_='fsal').get_text()\n",
    "    job_salaries.append(job_salary)\n"
   ]
  },
  {
   "cell_type": "code",
   "execution_count": 52,
   "id": "445f62b2-7d5f-4e25-949b-4c32d1074b9f",
   "metadata": {},
   "outputs": [],
   "source": [
    "data = {'job_titles': job_titles, 'job_salary': job_salaries}\n",
    "df = pd.DataFrame(data)\n"
   ]
  },
  {
   "cell_type": "code",
   "execution_count": 53,
   "id": "eb209ba5-23ea-4c53-bb8c-9956bd4d3698",
   "metadata": {},
   "outputs": [
    {
     "data": {
      "text/html": [
       "<div>\n",
       "<style scoped>\n",
       "    .dataframe tbody tr th:only-of-type {\n",
       "        vertical-align: middle;\n",
       "    }\n",
       "\n",
       "    .dataframe tbody tr th {\n",
       "        vertical-align: top;\n",
       "    }\n",
       "\n",
       "    .dataframe thead th {\n",
       "        text-align: right;\n",
       "    }\n",
       "</style>\n",
       "<table border=\"1\" class=\"dataframe\">\n",
       "  <thead>\n",
       "    <tr style=\"text-align: right;\">\n",
       "      <th></th>\n",
       "      <th>job_titles</th>\n",
       "      <th>job_salary</th>\n",
       "    </tr>\n",
       "  </thead>\n",
       "  <tbody>\n",
       "    <tr>\n",
       "      <th>0</th>\n",
       "      <td>ТӨЛӨВЛӨЛТИЙН ИНЖЕНЕР</td>\n",
       "      <td>2,500,000 - 3,000,000</td>\n",
       "    </tr>\n",
       "    <tr>\n",
       "      <th>1</th>\n",
       "      <td>Худалдааны зөвлөх</td>\n",
       "      <td>1,500,000 - 1,800,000</td>\n",
       "    </tr>\n",
       "    <tr>\n",
       "      <th>2</th>\n",
       "      <td>Оффис менежер</td>\n",
       "      <td>1,500,000 - 1,800,000 Тохиролцоно</td>\n",
       "    </tr>\n",
       "    <tr>\n",
       "      <th>3</th>\n",
       "      <td>ЦАГИЙН АЖИЛ /ТЭСО ИНВЕСТМЭНТ ХХК/</td>\n",
       "      <td>500,000 - 600,000</td>\n",
       "    </tr>\n",
       "    <tr>\n",
       "      <th>4</th>\n",
       "      <td>МЭДЭЭЛЭЛ ТЕХНОЛОГИЙН АЖИЛТАН</td>\n",
       "      <td>1,500,000 - 1,800,000</td>\n",
       "    </tr>\n",
       "  </tbody>\n",
       "</table>\n",
       "</div>"
      ],
      "text/plain": [
       "                          job_titles                         job_salary\n",
       "0               ТӨЛӨВЛӨЛТИЙН ИНЖЕНЕР              2,500,000 - 3,000,000\n",
       "1                  Худалдааны зөвлөх              1,500,000 - 1,800,000\n",
       "2                      Оффис менежер  1,500,000 - 1,800,000 Тохиролцоно\n",
       "3  ЦАГИЙН АЖИЛ /ТЭСО ИНВЕСТМЭНТ ХХК/                  500,000 - 600,000\n",
       "4       МЭДЭЭЛЭЛ ТЕХНОЛОГИЙН АЖИЛТАН              1,500,000 - 1,800,000"
      ]
     },
     "execution_count": 53,
     "metadata": {},
     "output_type": "execute_result"
    }
   ],
   "source": [
    "df.head()"
   ]
  },
  {
   "cell_type": "code",
   "execution_count": 60,
   "id": "3a8a00f6-bb4a-4a7c-9dcb-3c34a6522fb0",
   "metadata": {},
   "outputs": [],
   "source": [
    "for i in range(len(df)):\n",
    "    if \"Тохиролцоно\" in df['job_salary'][i]:\n",
    "        df.drop(i, inplace= True)\n",
    "        \n",
    "    if \"5,000,000 -ааc дээш\" in df['job_salary'][i]:\n",
    "        df['job_salary'][i] = 5_000_000"
   ]
  },
  {
   "cell_type": "code",
   "execution_count": 61,
   "id": "2fe063ce-f9b5-456d-82a2-ffbfc59aa0dd",
   "metadata": {},
   "outputs": [],
   "source": [
    "df = df.reset_index(drop=True)"
   ]
  },
  {
   "cell_type": "code",
   "execution_count": 63,
   "id": "5620ef52-de0e-4d40-b3d1-fc406ab6c405",
   "metadata": {},
   "outputs": [
    {
     "data": {
      "text/plain": [
       "'2500000 '"
      ]
     },
     "execution_count": 63,
     "metadata": {},
     "output_type": "execute_result"
    }
   ],
   "source": [
    "df['job_salary'][0].split('-')[0].replace(',', '')"
   ]
  },
  {
   "cell_type": "code",
   "execution_count": 65,
   "id": "28892803-8288-4077-beda-c2963fbbdd88",
   "metadata": {},
   "outputs": [],
   "source": [
    "import statistics\n",
    "\n",
    "for i in range(len(df)):\n",
    "    lower_sal = int(df['job_salary'][i].split('-')[0].replace(',', ''))\n",
    "    upper_sal = int(df['job_salary'][i].split('-')[1].replace(',', '')) \n",
    "    \n",
    "    median_sal = statistics.median([lower_sal, upper_sal])\n",
    "    df['job_salary'][i] = median_sal\n"
   ]
  },
  {
   "cell_type": "code",
   "execution_count": 66,
   "id": "22f30f8d-15aa-437e-a9d2-ae4c4a48aaa1",
   "metadata": {},
   "outputs": [
    {
     "data": {
      "text/html": [
       "<div>\n",
       "<style scoped>\n",
       "    .dataframe tbody tr th:only-of-type {\n",
       "        vertical-align: middle;\n",
       "    }\n",
       "\n",
       "    .dataframe tbody tr th {\n",
       "        vertical-align: top;\n",
       "    }\n",
       "\n",
       "    .dataframe thead th {\n",
       "        text-align: right;\n",
       "    }\n",
       "</style>\n",
       "<table border=\"1\" class=\"dataframe\">\n",
       "  <thead>\n",
       "    <tr style=\"text-align: right;\">\n",
       "      <th></th>\n",
       "      <th>job_titles</th>\n",
       "      <th>job_salary</th>\n",
       "    </tr>\n",
       "  </thead>\n",
       "  <tbody>\n",
       "    <tr>\n",
       "      <th>0</th>\n",
       "      <td>ТӨЛӨВЛӨЛТИЙН ИНЖЕНЕР</td>\n",
       "      <td>2750000.00</td>\n",
       "    </tr>\n",
       "    <tr>\n",
       "      <th>1</th>\n",
       "      <td>Худалдааны зөвлөх</td>\n",
       "      <td>1650000.00</td>\n",
       "    </tr>\n",
       "    <tr>\n",
       "      <th>2</th>\n",
       "      <td>ЦАГИЙН АЖИЛ /ТЭСО ИНВЕСТМЭНТ ХХК/</td>\n",
       "      <td>550000.00</td>\n",
       "    </tr>\n",
       "    <tr>\n",
       "      <th>3</th>\n",
       "      <td>МЭДЭЭЛЭЛ ТЕХНОЛОГИЙН АЖИЛТАН</td>\n",
       "      <td>1650000.00</td>\n",
       "    </tr>\n",
       "    <tr>\n",
       "      <th>4</th>\n",
       "      <td>IT System Analyst</td>\n",
       "      <td>2750000.00</td>\n",
       "    </tr>\n",
       "    <tr>\n",
       "      <th>5</th>\n",
       "      <td>Холбоо дохиололийн инженер</td>\n",
       "      <td>1650000.00</td>\n",
       "    </tr>\n",
       "    <tr>\n",
       "      <th>6</th>\n",
       "      <td>Мэдээллийн аюулгүй байдлын шинжээч</td>\n",
       "      <td>3500000.00</td>\n",
       "    </tr>\n",
       "    <tr>\n",
       "      <th>7</th>\n",
       "      <td>Төслийн менежер</td>\n",
       "      <td>1650000.00</td>\n",
       "    </tr>\n",
       "    <tr>\n",
       "      <th>8</th>\n",
       "      <td>Төслийн менежер</td>\n",
       "      <td>1650000.00</td>\n",
       "    </tr>\n",
       "    <tr>\n",
       "      <th>9</th>\n",
       "      <td>ГРАФИК ДИЗАЙНЕР АЖИЛД АВНА.</td>\n",
       "      <td>2750000.00</td>\n",
       "    </tr>\n",
       "    <tr>\n",
       "      <th>10</th>\n",
       "      <td>Оператор</td>\n",
       "      <td>1350000.00</td>\n",
       "    </tr>\n",
       "    <tr>\n",
       "      <th>11</th>\n",
       "      <td>Сүлжээний инженер</td>\n",
       "      <td>2750000.00</td>\n",
       "    </tr>\n",
       "    <tr>\n",
       "      <th>12</th>\n",
       "      <td>ПРОГРАМ ХӨГЖҮҮЛЭГЧ</td>\n",
       "      <td>3500000.00</td>\n",
       "    </tr>\n",
       "    <tr>\n",
       "      <th>13</th>\n",
       "      <td>Тестэр /Коор майнд ХХК/</td>\n",
       "      <td>1650000.00</td>\n",
       "    </tr>\n",
       "    <tr>\n",
       "      <th>14</th>\n",
       "      <td>Мэдээлэл технологийн ажилтан /support/</td>\n",
       "      <td>1350000.00</td>\n",
       "    </tr>\n",
       "    <tr>\n",
       "      <th>15</th>\n",
       "      <td>ПиАр мэргэжилтэн</td>\n",
       "      <td>1950000.00</td>\n",
       "    </tr>\n",
       "    <tr>\n",
       "      <th>16</th>\n",
       "      <td>Шийдлийн инженер</td>\n",
       "      <td>2300000.00</td>\n",
       "    </tr>\n",
       "    <tr>\n",
       "      <th>17</th>\n",
       "      <td>Суурилуулалтын инженер</td>\n",
       "      <td>1950000.00</td>\n",
       "    </tr>\n",
       "    <tr>\n",
       "      <th>18</th>\n",
       "      <td>Хөгжүүлэгч /Backend/</td>\n",
       "      <td>3500000.00</td>\n",
       "    </tr>\n",
       "    <tr>\n",
       "      <th>19</th>\n",
       "      <td>Программ хангамжийн архитектор</td>\n",
       "      <td>5500000.00</td>\n",
       "    </tr>\n",
       "    <tr>\n",
       "      <th>20</th>\n",
       "      <td>Онлайн оператор (эмэгтэй)</td>\n",
       "      <td>1100000.00</td>\n",
       "    </tr>\n",
       "    <tr>\n",
       "      <th>21</th>\n",
       "      <td>IT инженер (Өмнөговь салбар)</td>\n",
       "      <td>1650000.00</td>\n",
       "    </tr>\n",
       "    <tr>\n",
       "      <th>22</th>\n",
       "      <td>ПРОГРАММ ТЕСТЛЭГЧ</td>\n",
       "      <td>1350000.00</td>\n",
       "    </tr>\n",
       "    <tr>\n",
       "      <th>23</th>\n",
       "      <td>Дотоод аудитор /Мэдээлэл технологи/</td>\n",
       "      <td>2750000.00</td>\n",
       "    </tr>\n",
       "    <tr>\n",
       "      <th>24</th>\n",
       "      <td>Төслийн менежер ажилд авна. /Солонгос хэлтэй/</td>\n",
       "      <td>1950000.00</td>\n",
       "    </tr>\n",
       "    <tr>\n",
       "      <th>25</th>\n",
       "      <td>Back end developer</td>\n",
       "      <td>2300000.00</td>\n",
       "    </tr>\n",
       "    <tr>\n",
       "      <th>26</th>\n",
       "      <td>Захиргааны мэргэжилтэн</td>\n",
       "      <td>1950000.00</td>\n",
       "    </tr>\n",
       "    <tr>\n",
       "      <th>27</th>\n",
       "      <td>Ахлах програм хөгжүүлэгч</td>\n",
       "      <td>3500000.00</td>\n",
       "    </tr>\n",
       "    <tr>\n",
       "      <th>28</th>\n",
       "      <td>Дата аналист</td>\n",
       "      <td>2300000.00</td>\n",
       "    </tr>\n",
       "    <tr>\n",
       "      <th>29</th>\n",
       "      <td>Утасны оператор сургаж авна.</td>\n",
       "      <td>1350000.00</td>\n",
       "    </tr>\n",
       "    <tr>\n",
       "      <th>30</th>\n",
       "      <td>Худалдааны зөвлөх_Cургаж авна</td>\n",
       "      <td>1100000.00</td>\n",
       "    </tr>\n",
       "    <tr>\n",
       "      <th>31</th>\n",
       "      <td>Систем админ</td>\n",
       "      <td>2300000.00</td>\n",
       "    </tr>\n",
       "    <tr>\n",
       "      <th>32</th>\n",
       "      <td>Програм хөгжүүлэгч</td>\n",
       "      <td>1650000.00</td>\n",
       "    </tr>\n",
       "    <tr>\n",
       "      <th>33</th>\n",
       "      <td>Мобайл хөгжүүлэгч</td>\n",
       "      <td>1650000.00</td>\n",
       "    </tr>\n",
       "    <tr>\n",
       "      <th>34</th>\n",
       "      <td>Програмын Ахлах хөгжүүлэгч</td>\n",
       "      <td>2300000.00</td>\n",
       "    </tr>\n",
       "    <tr>\n",
       "      <th>35</th>\n",
       "      <td>Санхүүгийн Ахлах мэргэжилтэн</td>\n",
       "      <td>2300000.00</td>\n",
       "    </tr>\n",
       "    <tr>\n",
       "      <th>36</th>\n",
       "      <td>МЭДЭЭЛЛИЙН ОПЕРАТОР</td>\n",
       "      <td>1100000.00</td>\n",
       "    </tr>\n",
       "    <tr>\n",
       "      <th>37</th>\n",
       "      <td>САЙТЫН АШИГЛАЛТ ХАРИУЦСАН ИНЖЕНЕР</td>\n",
       "      <td>1650000.00</td>\n",
       "    </tr>\n",
       "    <tr>\n",
       "      <th>38</th>\n",
       "      <td>СҮЛЖЭЭНИЙ ИНЖЕНЕР</td>\n",
       "      <td>1650000.00</td>\n",
       "    </tr>\n",
       "    <tr>\n",
       "      <th>39</th>\n",
       "      <td>ПРОГРАМ ХӨГЖҮҮЛЭГЧ</td>\n",
       "      <td>2750000.00</td>\n",
       "    </tr>\n",
       "    <tr>\n",
       "      <th>40</th>\n",
       "      <td>Дата инженер</td>\n",
       "      <td>3500000.00</td>\n",
       "    </tr>\n",
       "    <tr>\n",
       "      <th>41</th>\n",
       "      <td>Мэдээллийн ажилтан</td>\n",
       "      <td>1350000.00</td>\n",
       "    </tr>\n",
       "  </tbody>\n",
       "</table>\n",
       "</div>"
      ],
      "text/plain": [
       "                                       job_titles job_salary\n",
       "0                            ТӨЛӨВЛӨЛТИЙН ИНЖЕНЕР 2750000.00\n",
       "1                               Худалдааны зөвлөх 1650000.00\n",
       "2               ЦАГИЙН АЖИЛ /ТЭСО ИНВЕСТМЭНТ ХХК/  550000.00\n",
       "3                    МЭДЭЭЛЭЛ ТЕХНОЛОГИЙН АЖИЛТАН 1650000.00\n",
       "4                               IT System Analyst 2750000.00\n",
       "5                      Холбоо дохиололийн инженер 1650000.00\n",
       "6              Мэдээллийн аюулгүй байдлын шинжээч 3500000.00\n",
       "7                                 Төслийн менежер 1650000.00\n",
       "8                                 Төслийн менежер 1650000.00\n",
       "9                     ГРАФИК ДИЗАЙНЕР АЖИЛД АВНА. 2750000.00\n",
       "10                                       Оператор 1350000.00\n",
       "11                              Сүлжээний инженер 2750000.00\n",
       "12                             ПРОГРАМ ХӨГЖҮҮЛЭГЧ 3500000.00\n",
       "13                        Тестэр /Коор майнд ХХК/ 1650000.00\n",
       "14         Мэдээлэл технологийн ажилтан /support/ 1350000.00\n",
       "15                               ПиАр мэргэжилтэн 1950000.00\n",
       "16                               Шийдлийн инженер 2300000.00\n",
       "17                         Суурилуулалтын инженер 1950000.00\n",
       "18                           Хөгжүүлэгч /Backend/ 3500000.00\n",
       "19                 Программ хангамжийн архитектор 5500000.00\n",
       "20                      Онлайн оператор (эмэгтэй) 1100000.00\n",
       "21                   IT инженер (Өмнөговь салбар) 1650000.00\n",
       "22                              ПРОГРАММ ТЕСТЛЭГЧ 1350000.00\n",
       "23            Дотоод аудитор /Мэдээлэл технологи/ 2750000.00\n",
       "24  Төслийн менежер ажилд авна. /Солонгос хэлтэй/ 1950000.00\n",
       "25                             Back end developer 2300000.00\n",
       "26                         Захиргааны мэргэжилтэн 1950000.00\n",
       "27                       Ахлах програм хөгжүүлэгч 3500000.00\n",
       "28                                   Дата аналист 2300000.00\n",
       "29                   Утасны оператор сургаж авна. 1350000.00\n",
       "30                  Худалдааны зөвлөх_Cургаж авна 1100000.00\n",
       "31                                   Систем админ 2300000.00\n",
       "32                             Програм хөгжүүлэгч 1650000.00\n",
       "33                              Мобайл хөгжүүлэгч 1650000.00\n",
       "34                     Програмын Ахлах хөгжүүлэгч 2300000.00\n",
       "35                   Санхүүгийн Ахлах мэргэжилтэн 2300000.00\n",
       "36                            МЭДЭЭЛЛИЙН ОПЕРАТОР 1100000.00\n",
       "37              САЙТЫН АШИГЛАЛТ ХАРИУЦСАН ИНЖЕНЕР 1650000.00\n",
       "38                              СҮЛЖЭЭНИЙ ИНЖЕНЕР 1650000.00\n",
       "39                             ПРОГРАМ ХӨГЖҮҮЛЭГЧ 2750000.00\n",
       "40                                   Дата инженер 3500000.00\n",
       "41                             Мэдээллийн ажилтан 1350000.00"
      ]
     },
     "execution_count": 66,
     "metadata": {},
     "output_type": "execute_result"
    }
   ],
   "source": [
    "df"
   ]
  },
  {
   "cell_type": "code",
   "execution_count": 75,
   "id": "58cbcc44-d8a8-43fc-9f76-e0d761479f1d",
   "metadata": {},
   "outputs": [
    {
     "data": {
      "text/plain": [
       "<AxesSubplot:ylabel='Frequency'>"
      ]
     },
     "execution_count": 75,
     "metadata": {},
     "output_type": "execute_result"
    },
    {
     "data": {
      "image/png": "[encoded data removed]",
      "text/plain": [
       "<Figure size 640x480 with 1 Axes>"
      ]
     },
     "metadata": {},
     "output_type": "display_data"
    }
   ],
   "source": [
    "df['job_salary'].plot.hist()"
   ]
  },
  {
   "cell_type": "markdown",
   "id": "24e14f14-987b-4c11-9bfb-35c79e4a7215",
   "metadata": {},
   "source": [
    "### Exercise 2: Scrape `zangia.mn` Page#1 - Page#10\n",
    "* Make a dataframe using `Мэдээлэл технологи, Харилцаа холбоо` category `https://www.zangia.mn/job/list/pg.1/b.4`.\n",
    "* Get job listings from page 1-10. *Hint* Loop over the list of pages\n",
    "* Make a dataframe and make a histogram plot using `salary` column."
   ]
  },
  {
   "cell_type": "code",
   "execution_count": null,
   "id": "1b6ff87d-f1c8-456f-97f8-06a2fafacd0d",
   "metadata": {},
   "outputs": [],
   "source": [
    "# Your code\n",
    "\n",
    "response = requests.get(\"https://www.zangia.mn/job/list/pg.1/b.4\")\n",
    "\n",
    "\n",
    "#loop oruulah 1-10\n"
   ]
  },
  {
   "cell_type": "markdown",
   "id": "928cbf46-a110-43f1-847a-788846efe1f8",
   "metadata": {},
   "source": [
    "### Exercise 3: Scrape `zangia.mn` Page#1 - Page#7\n",
    "* Make a dataframe using `Захиргаа, Хүний нөөц` category `https://www.zangia.mn/job/list/pg.1/b.36`.\n",
    "* Get job listings from page 1-7.\n",
    "* Make a dataframe and make a histogram plot using `salary` column.\n",
    "\n",
    "**WARNING** MAKE SURE YOUR LINKS ARE CORRECT!"
   ]
  },
  {
   "cell_type": "code",
   "execution_count": null,
   "id": "d8f744d3-5e8c-4bbd-900e-e7b31502eadf",
   "metadata": {},
   "outputs": [],
   "source": [
    "# Your code"
   ]
  }
 ],
 "metadata": {
  "kernelspec": {
   "display_name": "Python 3 (ipykernel)",
   "language": "python",
   "name": "python3"
  },
  "language_info": {
   "codemirror_mode": {
    "name": "ipython",
    "version": 3
   },
   "file_extension": ".py",
   "mimetype": "text/x-python",
   "name": "python",
   "nbconvert_exporter": "python",
   "pygments_lexer": "ipython3",
   "version": "3.8.13"
  }
 },
 "nbformat": 4,
 "nbformat_minor": 5
}
