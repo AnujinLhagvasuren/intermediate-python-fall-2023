{
 "cells": [
  {
   "cell_type": "markdown",
   "id": "78b31c65-89e4-4751-a75a-57cdf66fea7b",
   "metadata": {},
   "source": [
    "### Part 1: Animal Class\n",
    "\n",
    "1. Define an `Animal` class with the following attributes:\n",
    "    * `name`: a string representing the animal's name.\n",
    "    * `species`: a string representing the animal's species.\n",
    "    * `age`: an integer representing the animal's age.\n",
    "\n",
    "   And the following methods:\n",
    "   * A `__str__` method to return the animal's name when printed."
   ]
  },
  {
   "cell_type": "code",
<<<<<<< HEAD
   "execution_count": 11,
=======
   "execution_count": 1,
>>>>>>> 877cd331c92e3e85247de8573c1b6349550621c7
   "id": "b7630a98-2d27-4eef-a572-be682a61e7f8",
   "metadata": {},
   "outputs": [
    {
     "name": "stdout",
     "output_type": "stream",
     "text": [
      "This animal called Bob, it is Penguin 4 years old\n",
      "This animal called Bob, it is Penguin 4 years old\n",
      "This animal called Bob, it is Penguin 4 years old\n",
      "<__main__.Animal object at 0x7f85403f59d0>\n"
     ]
    }
   ],
   "source": [
    "# Part 1: Animal Class\n",
<<<<<<< HEAD
    "\n",
    "class Animal: \n",
    "    def __init__(self, name, species, age): \n",
    "        self.name = name \n",
    "        self.species = species\n",
    "        self.age = age\n",
    "        \n",
    "    def __str__(self):\n",
    "        return f'This animal called {self.name}, it is {self.species} {self.age} years old' \n",
    "\n",
    "vehicleObject = Animal('Bob','Penguin', 4)\n",
    "\n",
    "print(vehicleObject)\n",
    "print(vehicleObject.__str__())\n",
    "print(str(vehicleObject))\n",
    "print(vehicleObject.__repr__())\n"
=======
    "class Animal:\n",
    "    def __init__(self, name, species, age):\n",
    "        self.name = name\n",
    "        self.species = species\n",
    "        self.age = age\n",
    "    def __str__(self):\n",
    "        return f\"Animal is {self.name}\""
>>>>>>> 877cd331c92e3e85247de8573c1b6349550621c7
   ]
  },
  {
   "cell_type": "markdown",
   "id": "3ec0215a-666b-481c-a41d-d1cf2a55f2d7",
   "metadata": {},
   "source": [
    "### Part 2: Mammal, Bird, and Fish Classes\n",
    "\n",
    "1. Create three subclasses: `Mammal`, `Bird`, and `Fish`. Each should inherit from the `Animal` class.\n",
    "\n",
    "   Additional attributes:\n",
    "   * `Mammal` should have `legs` (number of legs) and `is_domesticated` (boolean).\n",
    "   * `Bird` should have `wingspan` (in meters) and `can_fly` (boolean).\n",
    "   * `Fish` should have `fins` (number of fins) and `is_freshwater` (boolean).\n",
    "\n",
<<<<<<< HEAD
    "   Each subclass should also override the `__str__` method to provide more detailed information about the animal such as:\n",
    "   \n",
    "   *name\n",
    "   *species\n",
    "   *age\n",
    "   *additional attributes\n",
    "   "
=======
    "   <!-- Each subclass should also override the `__str__` method to provide more detailed information about the animal. -->\n",
    "   Each subclass should provide more detailed information about the animal such as:\n",
    "   * name\n",
    "   * species\n",
    "   * age\n",
    "       * additional attributes"
>>>>>>> 877cd331c92e3e85247de8573c1b6349550621c7
   ]
  },
  {
   "cell_type": "code",
<<<<<<< HEAD
   "execution_count": 5,
=======
   "execution_count": 3,
>>>>>>> 877cd331c92e3e85247de8573c1b6349550621c7
   "id": "f50b5009-5388-4d06-a70b-6ea407a15c54",
   "metadata": {},
   "outputs": [
    {
     "ename": "NameError",
     "evalue": "name 'Animal' is not defined",
     "output_type": "error",
     "traceback": [
      "\u001b[0;31m---------------------------------------------------------------------------\u001b[0m",
      "\u001b[0;31mNameError\u001b[0m                                 Traceback (most recent call last)",
      "Cell \u001b[0;32mIn [5], line 2\u001b[0m\n\u001b[1;32m      1\u001b[0m \u001b[38;5;66;03m# Part 2: Mammal, Bird, and Fish Classes\u001b[39;00m\n\u001b[0;32m----> 2\u001b[0m \u001b[38;5;28;01mclass\u001b[39;00m \u001b[38;5;21;01mMammal\u001b[39;00m(\u001b[43mAnimal\u001b[49m):\n\u001b[1;32m      3\u001b[0m     \u001b[38;5;28;01mdef\u001b[39;00m \u001b[38;5;21m__init__\u001b[39m(\u001b[38;5;28mself\u001b[39m, legs, boolean):\n\u001b[1;32m      4\u001b[0m         \u001b[38;5;28mself\u001b[39m\u001b[38;5;241m.\u001b[39mlegs \u001b[38;5;241m=\u001b[39m legs\n",
      "\u001b[0;31mNameError\u001b[0m: name 'Animal' is not defined"
     ]
    }
   ],
   "source": [
    "# Part 2: Mammal, Bird, and Fish Classes\n",
    "class Mammal(Animal):\n",
<<<<<<< HEAD
    "        def __init__(self, name, species, age, legs,  self.name = name \n",
    "        self.species = species\n",
    "        self.age = age): \n",
    "        self.legs = legs\n",
    "        self.name = name \n",
    "        self.species = species\n",
    "        self.age = age\n",
    "        self.age = age\n",
    "        self.boolean = boolean\n",
    "        \n",
    "        super(). __init__(name, age, species)\n",
    "        \n",
    "class Animal(Bird):\n",
    "    def __init__(self, wingspan, can_fly):\n",
    "        self.wingspan = wingspan\n",
    "        \n",
    "        self.can_fly = can_fly\n",
    "\n",
    "class Animal(Fish):\n",
    "    def __init__(self, fins, is_freshwater):\n",
    "        self. fins =  fins\n",
    "        \n",
    "        self.is_freshwater = is_freshwater\n",
    "\n",
    "    def __str__(self):\n",
    "        print(\"Type of species: \",self.boolean)\n",
    "        print(\"Can it fly or not: \",self.can_fly)\n",
    "        print(\"Age: \",self.age)\n",
    "        print(\"Name: \",self.name)"
=======
    "    def __init__(self, name, species, age, legs, is_domesticaed):\n",
    "        # self.name =name\n",
    "        # self.age = age\n",
    "        # self.species = species\n",
    "        super().__init__(name, age, species)\n",
    "        self.legs = legs\n",
    "        self.is_domesticated = is_domesticaed\n",
    "\n",
    "    def __str__(self):\n",
    "        print(\"Details: \", self.name, self.species, self.age, self.legs, self.is_domesticaed)\n",
    "\n",
    "class Bird(Animal):\n",
    "    def __init__(self, name, species, age, wingspan, can_fly):\n",
    "        # self.name =name\n",
    "        # self.age = age\n",
    "        # self.species = species\n",
    "        super().__init__(name, age, species)\n",
    "        self.wingspan = wingspan\n",
    "        self.can_fly = can_fly\n",
    "\n",
    "    def __str__(self):\n",
    "        print(\"Details: \", self.name, self.species, self.age, self.wingspan, self.can_fly)\n",
    "\n",
    "class Fish(Animal):\n",
    "    def __init__(self, name, species, age, fins, fresh_water):\n",
    "        # self.name =name\n",
    "        # self.age = age\n",
    "        # self.species = species\n",
    "        super().__init__(name, age, species)\n",
    "        self.fins = fins\n",
    "        self.fresh_water = fresh_water\n",
    "\n",
    "    def __str__(self):\n",
    "        print(\"Details: \", self.name, self.species, self.age, self.fins, self.fresh_water)"
>>>>>>> 877cd331c92e3e85247de8573c1b6349550621c7
   ]
  },
  {
   "cell_type": "markdown",
   "id": "0b4d42a4-02c5-4789-8762-0be3ab3acc62",
   "metadata": {},
   "source": [
    "### Part 3: Zoo Class\n",
    "\n",
    "1. Define a `Zoo` class with the following attributes:\n",
    "    * `name`: a string representing the zoo's name.\n",
    "    * `animals`: a list containing instances of the animal classes.\n",
    "\n",
    "   And the following methods:\n",
    "   * `add_animal(self, animal)`: A method to add an animal to the zoo.\n",
    "   * `remove_animal(self, name)`: A method to remove an animal from the zoo using its name.\n",
    "   * `find_animal(self, name)`: A method to find an animal by its name. If the animal is found, print its details, otherwise print \"Animal not found.\"\n",
    "   * `list_animals(self)`: A method to print all the animals in the zoo."
   ]
  },
  {
   "cell_type": "code",
   "execution_count": 20,
   "id": "a75a5c83-acdf-46bc-9d87-48a31a6ed9c2",
   "metadata": {},
   "outputs": [],
   "source": [
    "# Part 3: Zoo Class\n",
<<<<<<< HEAD
    "class Zoo: \n",
    "    def __init__(self, name, animals): \n",
    "        self.name\n",
    "        \n",
    "    def \n"
=======
    "class Zoo:\n",
    "    def __init__(self, name, animals):\n",
    "        self.name = name\n",
    "        self.animals = animals\n",
    "\n",
    "    "
>>>>>>> 877cd331c92e3e85247de8573c1b6349550621c7
   ]
  },
  {
   "cell_type": "markdown",
   "id": "84283f4f-3e95-4cf0-9966-0bc5493c8c7b",
   "metadata": {},
   "source": [
    "### Part 4: Putting It All Together\n",
    "\n",
    "1. Create instances of `Mammal`(Dog named \"Buddy\"), `Bird`(Bird named \"Eagle Eye\"), and `Fish`(Fish named \"Goldie\").\n",
    "2. Create an instance of the `Zoo` class.\n",
    "3. Add the animals to the zoo.\n",
    "4. List all the animals in the zoo.\n",
    "5. Find an animal named \"Buddy\"\n",
    "6. Remove an animal named \"Goldie\".\n",
    "7. List all the animals in the zoo and check if \"Goldie\" is removed."
   ]
  },
  {
   "cell_type": "code",
   "execution_count": 21,
   "id": "1fcc4979-c6d2-461e-a14b-244cb12aad91",
   "metadata": {},
   "outputs": [],
   "source": [
    "# Part 4: Tests\n"
   ]
  },
  {
   "cell_type": "code",
   "execution_count": null,
   "id": "ef7d1e3e-5f28-4a04-bc0b-be32ae026a1c",
   "metadata": {},
   "outputs": [],
   "source": []
  }
 ],
 "metadata": {
  "kernelspec": {
   "display_name": "Python 3 (ipykernel)",
   "language": "python",
   "name": "python3"
  },
  "language_info": {
   "codemirror_mode": {
    "name": "ipython",
    "version": 3
   },
   "file_extension": ".py",
   "mimetype": "text/x-python",
   "name": "python",
   "nbconvert_exporter": "python",
   "pygments_lexer": "ipython3",
   "version": "3.8.13"
  }
 },
 "nbformat": 4,
 "nbformat_minor": 5
}
