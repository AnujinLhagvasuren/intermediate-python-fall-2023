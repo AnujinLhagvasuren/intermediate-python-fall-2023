{
 "cells": [
  {
   "cell_type": "markdown",
   "id": "f1a04536-8a07-42f3-b74c-72bd8f89ee63",
   "metadata": {},
   "source": [
    "# Object Oriented Programming Exercises\n",
    "\n",
    "Complete these exercises to test your skills!"
   ]
  },
  {
   "cell_type": "markdown",
   "id": "6be0dd52-0255-4085-a6a3-9e5ad978399c",
   "metadata": {},
   "source": [
    "## Exercise #1\n",
    "\n",
    "<!-- Create a class named \"Car\" that has two properties, **manufacturer** and **model**. -->\n",
    "* Create a class named *Vehicle* that has two properties, **vtype** and **made_year**\n",
    "* Create `__str__()` method to print out the **vtype** and **made_year**"
   ]
  },
  {
   "cell_type": "code",
<<<<<<< HEAD
   "execution_count": 18,
   "id": "5357465e-4a1f-4b29-a748-482024a16dd6",
   "metadata": {},
   "outputs": [
    {
     "name": "stdout",
     "output_type": "stream",
     "text": [
      "My vehicle is type motorcycle,made year is 2023\n",
      "My vehicle is type motorcycle,made year is 2023\n",
      "My vehicle is type motorcycle,made year is 2023\n",
      "<__main__.Vehicle object at 0x7f8a987364f0>\n"
     ]
    }
   ],
   "source": [
    "class Vehicle: \n",
    "    def __init__(self, vtype,made_year): \n",
    "        self.vtype = vtype \n",
    "        self.made_year = made_year\n",
    "        \n",
    "    def __str__(self):\n",
    "        return f'My vehicle is type {self.vtype},made year is {self.made_year}'\n",
    "\n",
    "vehicleObject = Vehicle('motorcycle', 2023)\n",
    "\n",
    "print(vehicleObject)\n",
    "print(vehicleObject.__str__())\n",
    "print(str(vehicleObject))\n",
    "print(vehicleObject.__repr__())\n",
    "\n"
=======
   "execution_count": 1,
   "id": "5357465e-4a1f-4b29-a748-482024a16dd6",
   "metadata": {},
   "outputs": [],
   "source": [
    "class Vehicle:\n",
    "    def __init__(self, vtype, made_year):\n",
    "        self.vtpye = vtype\n",
    "        self.made_year = made_year\n",
    "\n",
    "    def __str__(self):\n",
    "        print(\"Vehicle type is\", self.vtype, \"Made year is:\", self.made_year)"
>>>>>>> 877cd331c92e3e85247de8573c1b6349550621c7
   ]
  },
  {
   "cell_type": "markdown",
   "id": "afe89b8d-3518-4925-8182-3f0ceec04ec0",
   "metadata": {},
   "source": [
    "## Exercise #2\n",
    "\n",
    "<!-- Create a child class named **Car** that inherits **Vehicle** class -->\n",
    "* Create a child class named **Car** that inherits a **Vehicle** and has two properties **manufacturer** and **model**.\n",
    "* Create `__str__()` method to print out the **vtype**, **made_year**, **manufacturer** and **model**"
   ]
  },
  {
   "cell_type": "code",
<<<<<<< HEAD
   "execution_count": 19,
=======
   "execution_count": 5,
>>>>>>> 877cd331c92e3e85247de8573c1b6349550621c7
   "id": "9b9168bc-0964-407b-8645-75dab95985d7",
   "metadata": {},
   "outputs": [],
   "source": [
    "class Car(Vehicle):\n",
    "    def __init__(self, vtype, made_year, manufacturer, model):\n",
<<<<<<< HEAD
    "        self.manufacturer = manufacturer\n",
    "        \n",
    "        self.model = model\n",
    "\n",
    "    def __str__(self):\n",
    "        print(\"Vehicle Type: \",self.type)\n",
    "        print(\"Made year: \",self.made_year)\n",
    "        print(\"Manufacturer: \",self.manufacturer)\n",
    "        print(\"Model Type: \",self.model)"
=======
    "        self.vtype = vtype\n",
    "        self.made_year = made_year\n",
    "        self.manufacturer = manufacturer\n",
    "        self.model = model\n",
    "\n",
    "    def __str__(self):\n",
    "        print(\"Vehicle Type: \", self.vtype)\n",
    "        print(\"Made year: \", self.made_year)\n",
    "        print(\"Manufacturer: \", self.manufacturer)\n",
    "        print(\"Model: \", self.model)"
>>>>>>> 877cd331c92e3e85247de8573c1b6349550621c7
   ]
  },
  {
   "cell_type": "markdown",
   "id": "3364303e-1f8a-4922-92c0-39c4c752bf51",
   "metadata": {},
   "source": [
    "## Exercise #3\n",
    "\n",
    "Instantiate **Car** class and call the **__str__** method.\n",
    "\n",
    "Example: calling **Car** class with \"toyota\" and \"Highlander\" should print out the following:\n",
    "```\n",
    "Type is:  SUV\n",
    "Made year is:  2015\n",
    "Manufacturer is:  toyota\n",
    "Model is:  Highlander\n",
    "```"
   ]
  },
  {
   "cell_type": "code",
<<<<<<< HEAD
   "execution_count": 23,
=======
   "execution_count": 11,
>>>>>>> 877cd331c92e3e85247de8573c1b6349550621c7
   "id": "d8850031-f1f4-413d-acd2-48e061db2e73",
   "metadata": {},
   "outputs": [
    {
<<<<<<< HEAD
     "ename": "AttributeError",
     "evalue": "'Car' object has no attribute 'type'",
     "output_type": "error",
     "traceback": [
      "\u001b[0;31m---------------------------------------------------------------------------\u001b[0m",
      "\u001b[0;31mAttributeError\u001b[0m                            Traceback (most recent call last)",
      "Cell \u001b[0;32mIn [23], line 2\u001b[0m\n\u001b[1;32m      1\u001b[0m car \u001b[38;5;241m=\u001b[39m Car(\u001b[38;5;124m\"\u001b[39m\u001b[38;5;124mSUV\u001b[39m\u001b[38;5;124m\"\u001b[39m, \u001b[38;5;241m2023\u001b[39m, \u001b[38;5;124m\"\u001b[39m\u001b[38;5;124mtoyota\u001b[39m\u001b[38;5;124m\"\u001b[39m, \u001b[38;5;124m\"\u001b[39m\u001b[38;5;124mRangeRover\u001b[39m\u001b[38;5;124m\"\u001b[39m)\n\u001b[0;32m----> 2\u001b[0m \u001b[43mcar\u001b[49m\u001b[38;5;241;43m.\u001b[39;49m\u001b[43m \u001b[49m\u001b[38;5;21;43m__str__\u001b[39;49m\u001b[43m(\u001b[49m\u001b[43m)\u001b[49m\n",
      "Cell \u001b[0;32mIn [19], line 8\u001b[0m, in \u001b[0;36mCar.__str__\u001b[0;34m(self)\u001b[0m\n\u001b[1;32m      7\u001b[0m \u001b[38;5;28;01mdef\u001b[39;00m \u001b[38;5;21m__str__\u001b[39m(\u001b[38;5;28mself\u001b[39m):\n\u001b[0;32m----> 8\u001b[0m     \u001b[38;5;28mprint\u001b[39m(\u001b[38;5;124m\"\u001b[39m\u001b[38;5;124mVehicle Type: \u001b[39m\u001b[38;5;124m\"\u001b[39m,\u001b[38;5;28;43mself\u001b[39;49m\u001b[38;5;241;43m.\u001b[39;49m\u001b[43mtype\u001b[49m)\n\u001b[1;32m      9\u001b[0m     \u001b[38;5;28mprint\u001b[39m(\u001b[38;5;124m\"\u001b[39m\u001b[38;5;124mMade year: \u001b[39m\u001b[38;5;124m\"\u001b[39m,\u001b[38;5;28mself\u001b[39m\u001b[38;5;241m.\u001b[39mmade_year)\n\u001b[1;32m     10\u001b[0m     \u001b[38;5;28mprint\u001b[39m(\u001b[38;5;124m\"\u001b[39m\u001b[38;5;124mManufacturer: \u001b[39m\u001b[38;5;124m\"\u001b[39m,\u001b[38;5;28mself\u001b[39m\u001b[38;5;241m.\u001b[39mmanufacturer)\n",
      "\u001b[0;31mAttributeError\u001b[0m: 'Car' object has no attribute 'type'"
=======
     "name": "stdout",
     "output_type": "stream",
     "text": [
      "Vehicle Type:  SUV\n",
      "Made year:  2015\n",
      "Manufacturer:  toyota\n",
      "Model:  Highlander\n"
>>>>>>> 877cd331c92e3e85247de8573c1b6349550621c7
     ]
    }
   ],
   "source": [
<<<<<<< HEAD
    "car = Car(\"SUV\", 2023, \"toyota\", \"RangeRover\")\n",
    "car. __str__()"
=======
    "car = Car(\"SUV\", 2015, \"toyota\", \"Highlander\")\n",
    "car.__str__()"
>>>>>>> 877cd331c92e3e85247de8573c1b6349550621c7
   ]
  },
  {
   "cell_type": "code",
   "execution_count": null,
<<<<<<< HEAD
   "id": "904e0bcc-8220-4835-a0a6-b47e13358a2b",
=======
   "id": "809b4f1f-2b0f-4263-b614-3b28dede17ab",
>>>>>>> 877cd331c92e3e85247de8573c1b6349550621c7
   "metadata": {},
   "outputs": [],
   "source": []
  }
 ],
 "metadata": {
  "kernelspec": {
   "display_name": "Python 3 (ipykernel)",
   "language": "python",
   "name": "python3"
  },
  "language_info": {
   "codemirror_mode": {
    "name": "ipython",
    "version": 3
   },
   "file_extension": ".py",
   "mimetype": "text/x-python",
   "name": "python",
   "nbconvert_exporter": "python",
   "pygments_lexer": "ipython3",
   "version": "3.8.13"
  }
 },
 "nbformat": 4,
 "nbformat_minor": 5
}
