{
 "cells": [
  {
   "cell_type": "markdown",
   "id": "17e20698-184e-4b73-a474-64c1a5cf7a15",
   "metadata": {
    "tags": []
   },
   "source": [
    "### Exercise 1:\n",
    "Objective: Make unit tests on a `employee` module. Use `sample_employees.csv`\n",
    "* Create a separate `tester.py` module.\n",
    "  * Import pandas\n",
    "  * Import `employee` module\n",
    "  * Create a class named `TestEmployee`. Don't forget to import `unittest` module and inherit from it.\n",
    "  * Write a test function that checks if a `get_fullname` function from `employee` returns lower case names. Example: \"Bob Marley\" should return \"bob marley\". *Hint*: use `assertTrue` and `islower()`\n",
    "  * Write a test function. Get `average` salary from `sample_employees.csv` and check if `get_average` function from `employee` module returns the same result.\n",
    "  \n",
    "| Method                      | Checks that              |\n",
    "|-----------------------------|--------------------------|\n",
    "| assertEqual(a,   b)         | a   ==   b               |\n",
    "| assertNotEqual(a,   b)      | a   !=   b               |\n",
    "| assertTrue(x)               | bool(x)   is   True      |\n",
    "| assertFalse(x)              | bool(x)   is   False     |\n",
    "| assertIs(a,   b)            | a   is   b               |\n",
    "| assertIsNot(a,   b)         | a   is   not   b         |\n",
    "| assertIsNone(x)             | x   is   None            |\n",
    "| assertIsNotNone(x)          | x   is   not   None      |\n",
    "| assertIn(a,   b)            | a   in   b               |\n",
    "| assertNotIn(a,   b)         | a   not   in   b         |\n",
    "| assertIsInstance(a,   b)    | isinstance(a,   b)       |\n",
    "| assertNotIsInstance(a,   b) | not   isinstance(a,   b) |"
   ]
  },
  {
   "cell_type": "code",
   "execution_count": 6,
   "id": "c6e805dc-4c98-4e38-a6aa-4c3503790a39",
   "metadata": {},
   "outputs": [
    {
     "name": "stderr",
     "output_type": "stream",
     "text": [
      "E\n",
      "======================================================================\n",
      "ERROR: test_add (__main__.TestEmployee)\n",
      "----------------------------------------------------------------------\n",
      "Traceback (most recent call last):\n",
      "  File \"/var/folders/1w/lx75jhk96bxb92f_9kqf1v8h0000gn/T/ipykernel_4759/2144439433.py\", line 12, in test_add\n",
      "    result = calc.add(10, 5)\n",
      "NameError: name 'calc' is not defined\n",
      "\n",
      "----------------------------------------------------------------------\n",
      "Ran 1 test in 0.003s\n",
      "\n",
      "FAILED (errors=1)\n"
     ]
    }
   ],
   "source": [
    "import pandas as pd\n",
    "import unittest\n",
    " \n",
    "import employee\n",
    "import unittest\n",
    "\n",
    "\n",
    "class TestEmployee(unittest.TestCase):\n",
    "    # Creating the method to test add\n",
    "    def test_add(self):\n",
    "        # Saving the add function's result\n",
    "        result = calc.add(10, 5)\n",
    "        self.assertEqual(result, 14)\n",
    "\n",
    "        \n",
    "if __name__ == '__main__':\n",
    "    unittest.main(argv=['first-arg-is-ignored'], exit=False)"
   ]
  },
  {
   "cell_type": "code",
   "execution_count": 25,
   "id": "62cf0bb1-8dc4-4af3-8161-513e31f5705d",
   "metadata": {},
   "outputs": [
    {
     "name": "stderr",
     "output_type": "stream",
     "text": [
      ".."
     ]
    },
    {
     "name": "stdout",
     "output_type": "stream",
     "text": [
      "Employee Test Started\n",
      "Employee Test Finished\n"
     ]
    },
    {
     "name": "stderr",
     "output_type": "stream",
     "text": [
      "\n",
      "----------------------------------------------------------------------\n",
      "Ran 2 tests in 0.040s\n",
      "\n",
      "OK\n"
     ]
    }
   ],
   "source": [
    "class TestEmployee(unittest.TestCase):\n",
    "    @classmethod\n",
    "    def setUpClass(cls):\n",
    "        print(\"Employee Test Started\")\n",
    "        \n",
    "    @classmethod\n",
    "    def tearDownClass(cls):\n",
    "        print(\"Employee Test Finished\")\n",
    "        \n",
    "    def setUp(self):\n",
    "        self.df = pd.read_csv(\"sample_employees.csv\")\n",
    "\n",
    "    def test_get_fullname(self):\n",
    "        firstname = 'Bob'\n",
    "        lastname = 'Marley'\n",
    "        self.assertTrue(employee.get_fullname(firstname, lastname),\n",
    "                        f\"{firstname.lower()} {lastname.lower()}\")\n",
    "\n",
    "    def test_get_average(self):\n",
    "        df = pd.read_csv(\"sample_employees.csv\")\n",
    "        salary = df['salary']\n",
    "        \n",
    "        self.assertTrue(employee.get_average(salary),\n",
    "                        salary.mean())\n",
    "\n",
    "if __name__ == '__main__':\n",
    "    unittest.main(argv=['first-arg-is-ignored'], exit=False)"
   ]
  },
  {
   "cell_type": "code",
   "execution_count": 14,
   "id": "23a0a8ba-77af-41d7-ae8a-65380706fa75",
   "metadata": {},
   "outputs": [
    {
     "name": "stdout",
     "output_type": "stream",
     "text": [
      "python: can't open file 'tester.py': [Errno 2] No such file or directory\n"
     ]
    }
   ],
   "source": [
    "!python tester.py"
   ]
  },
  {
   "cell_type": "markdown",
   "id": "aef5bad7-ecf4-4766-91b5-e1386d896b75",
   "metadata": {},
   "source": [
    "### Exercise 2:\n",
    "Objective: Make unit tests on a `student` module. Use `sample_students.csv`\n",
    "* Import student\n",
    "* Create a separate *class* in `tester.py` module.\n",
    "  * Create a class named `TestStudent`.\n",
    "  * Write a test function. Get a maximum `grade` from `sample_students.csv` using pandas `.max()` method. And check if it matches `get_max_grade` function from `student` module. Use `grade` column to test.\n",
    "  * Write a test function. Get a minimum `grade` from `sample_students.csv` using pandas `.min()` method. And check if it matches `get_min_grade` function from `employee` module. Use `grade` column to test.\n",
    "\n",
    "* Setup a `setUpClass` and `tearDownClass` in both `TestEmployee` and `TestStudent` classes. \n",
    "  * In both `setUpClass`, print out the name of the class and its status. Example: \"MyTest test started\"\n",
    "  * In both `tearDownClass` print out the name of the class and its status. Example: \"MyTest test ended\"\n",
    "* Read both employees_df as `sample_employees.csv` and students_df `sample_students.csv` at the start of each test. Use `setUp`."
   ]
  },
  {
   "cell_type": "code",
   "execution_count": 27,
   "id": "923fe20d-fce2-40ca-90c8-e77785152100",
   "metadata": {},
   "outputs": [
    {
     "ename": "IndentationError",
     "evalue": "unindent does not match any outer indentation level (<tokenize>, line 15)",
     "output_type": "error",
     "traceback": [
      "\u001b[0;36m  File \u001b[0;32m<tokenize>:15\u001b[0;36m\u001b[0m\n\u001b[0;31m    if __name__ == '__main__':\u001b[0m\n\u001b[0m    ^\u001b[0m\n\u001b[0;31mIndentationError\u001b[0m\u001b[0;31m:\u001b[0m unindent does not match any outer indentation level\n"
     ]
    }
   ],
   "source": [
    "class TestStudent(unittest.TestCase):\n",
    "    \n",
    "    def test_get_max_grade(self):\n",
    "        df = pd.read_csv(\"sample_students.csv\")\n",
    "        grade = df['grade'] \n",
    "        self.assertTrue(student.get_max_grade(grade), grade.max())\n",
    "        df.grade.max()\n",
    "   \n",
    "    def test_get_min_grade(self):\n",
    "        grade = df['grade'] \n",
    "        self.assertTrue(student.get_min_grade(grade), grade.min())\n",
    "        df.grade.min()\n",
    "   \n",
    " if __name__ == '__main__':\n",
    "    unittest.main(argv=['first-arg-is-ignored'], exit=False)"
   ]
  },
  {
   "cell_type": "code",
   "execution_count": 9,
   "id": "c0694579-2c7c-47ed-b09b-a8415072f166",
   "metadata": {},
   "outputs": [
    {
     "name": "stdout",
     "output_type": "stream",
     "text": [
      "python: can't open file 'tester.py': [Errno 2] No such file or directory\n"
     ]
    }
   ],
   "source": [
    "!python tester.py"
   ]
  }
 ],
 "metadata": {
  "kernelspec": {
   "display_name": "Python 3 (ipykernel)",
   "language": "python",
   "name": "python3"
  },
  "language_info": {
   "codemirror_mode": {
    "name": "ipython",
    "version": 3
   },
   "file_extension": ".py",
   "mimetype": "text/x-python",
   "name": "python",
   "nbconvert_exporter": "python",
   "pygments_lexer": "ipython3",
   "version": "3.8.13"
  }
 },
 "nbformat": 4,
 "nbformat_minor": 5
}
